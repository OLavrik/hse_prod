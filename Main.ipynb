{
  "nbformat": 4,
  "nbformat_minor": 0,
  "metadata": {
    "colab": {
      "name": "prod1.ipynb",
      "private_outputs": true,
      "provenance": []
    },
    "kernelspec": {
      "name": "python3",
      "display_name": "Python 3"
    }
  },
  "cells": [
    {
      "cell_type": "code",
      "metadata": {
        "id": "S9ZHwfqM7H5J"
      },
      "source": [
        "from preprocess import load_data_split3, group_date, clean_up_deal, prepare_for_train\n",
        "from visualize import show_one_session\n",
        "from clustering import loop_all_task"
      ],
      "execution_count": null,
      "outputs": []
    },
    {
      "cell_type": "code",
      "metadata": {
        "id": "llcwJZd_7SGN"
      },
      "source": [
        "df=load_data_split3('/content/trade_info-2.sqlite3')"
      ],
      "execution_count": null,
      "outputs": []
    },
    {
      "cell_type": "code",
      "metadata": {
        "id": "XU75tIddj4Ba"
      },
      "source": [
        "df.head()"
      ],
      "execution_count": null,
      "outputs": []
    },
    {
      "cell_type": "code",
      "metadata": {
        "id": "JuVelYYPjuep"
      },
      "source": [
        "df.info()"
      ],
      "execution_count": null,
      "outputs": []
    },
    {
      "cell_type": "code",
      "metadata": {
        "id": "aOzfs86NpyO4"
      },
      "source": [
        "df.hist(bins=50, figsize=(20,15), color='orchid')\n"
      ],
      "execution_count": null,
      "outputs": []
    },
    {
      "cell_type": "code",
      "metadata": {
        "id": "HkZouwahJog_"
      },
      "source": [
        "show_one_session(df,39)"
      ],
      "execution_count": null,
      "outputs": []
    },
    {
      "cell_type": "code",
      "metadata": {
        "id": "0K9KNS5M-PTl"
      },
      "source": [
        "grop_ses=group_date(df)\n",
        "grop_ses=grop_ses.apply(lambda x: clean_up_deal(x), axis=1)\n",
        "grop_ses=grop_ses.sort_values(by=['counts'])\n",
        "grop_ses=grop_ses[grop_ses[\"counts\"]>50]"
      ],
      "execution_count": null,
      "outputs": []
    },
    {
      "cell_type": "code",
      "metadata": {
        "id": "qg-df29zQIZ4"
      },
      "source": [
        "grop_ses.head()"
      ],
      "execution_count": null,
      "outputs": []
    },
    {
      "cell_type": "code",
      "metadata": {
        "id": "M7BlOtFgAWyx"
      },
      "source": [
        "X=prepare_for_train(grop_ses)"
      ],
      "execution_count": null,
      "outputs": []
    },
    {
      "cell_type": "code",
      "metadata": {
        "id": "M9u9w7_dBj6n"
      },
      "source": [
        "loop_all_task(X, 5)"
      ],
      "execution_count": null,
      "outputs": []
    },
    {
      "cell_type": "code",
      "metadata": {
        "id": "V7l9F_8CFAKj"
      },
      "source": [
        "loop_all_task(X, 15)"
      ],
      "execution_count": null,
      "outputs": []
    },
    {
      "cell_type": "code",
      "metadata": {
        "id": "DwVXHVVODUjW"
      },
      "source": [
        ""
      ],
      "execution_count": null,
      "outputs": []
    }
  ]
}